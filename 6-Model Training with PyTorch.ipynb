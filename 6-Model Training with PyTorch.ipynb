{
 "cells": [
  {
   "cell_type": "markdown",
   "metadata": {},
   "source": [
    "# 在 PyTorch 中训练您的模型\n",
    "## 简介\n",
    "在之前的视频中，我们已经讨论并演示了：\n",
    "* 使用 torch.nn 模块的神经网络层和函数构建模型\n",
    "* 自动梯度计算的机制，这是基于梯度的模型训练的核心\n",
    "* 使用 TensorBoard 可视化训练进度和其他活动\n",
    "\n",
    "在本视频中，我们将为您的工具库添加一些新工具：\n",
    "* 我们将熟悉数据集和数据加载器抽象，以及它们如何简化在训练循环中向模型提供数据的过程\n",
    "* 我们将讨论特定的损失函数以及何时使用它们\n",
    "* 我们将了解 PyTorch 优化器，它实现了根据损失函数的结果调整模型权重的算法\n",
    "\n",
    "最后，我们将把这些工具结合起来，看看完整的 PyTorch 训练循环是如何运行的。"
   ]
  },
  {
   "cell_type": "markdown",
   "metadata": {},
   "source": [
    "## 数据集和数据加载器\n",
    "\n",
    "`Dataset` 和 `DataLoader` 类封装了从存储中提取数据并以批量形式将其暴露给训练循环的过程。\n",
    "\n",
    "`Dataset` 负责访问和处理单个数据实例。\n",
    "\n",
    "`DataLoader` 从 `Dataset` 中提取数据实例（可以自动或使用您定义的采样器），将它们收集成批量，并返回供训练循环使用。`DataLoader` 可以处理各种类型的数据集，无论它们包含何种类型的数据。\n",
    "\n",
    "在本教程中，我们将使用 TorchVision 提供的 Fashion-MNIST 数据集。我们使用 `torchvision.transforms.Normalize()` 对图像内容进行零中心化和归一化，并下载训练和验证数据集。"
   ]
  },
  {
   "cell_type": "code",
   "execution_count": null,
   "metadata": {},
   "outputs": [
    {
     "name": "stdout",
     "output_type": "stream",
     "text": [
      "Training set has 60000 instances\n",
      "Validation set has 10000 instances\n"
     ]
    }
   ],
   "source": [
    "import torch\n",
    "import torchvision\n",
    "import torchvision.transforms as transforms\n",
    "\n",
    "# PyTorch TensorBoard 支持\n",
    "from torch.utils.tensorboard import SummaryWriter\n",
    "from datetime import datetime\n",
    "\n",
    "\n",
    "transform = transforms.Compose(\n",
    "    [transforms.ToTensor(),\n",
    "    transforms.Normalize((0.5,), (0.5,))])  # 归一化图像数据\n",
    "\n",
    "# 创建训练和验证数据集，如有必要则下载\n",
    "training_set = torchvision.datasets.FashionMNIST('./data', train=True, transform=transform, download=True)\n",
    "validation_set = torchvision.datasets.FashionMNIST('./data', train=False, transform=transform, download=True)\n",
    "\n",
    "# 为数据集创建数据加载器；训练数据需要打乱，验证数据不需要\n",
    "training_loader = torch.utils.data.DataLoader(training_set, batch_size=4, shuffle=True, num_workers=2)\n",
    "validation_loader = torch.utils.data.DataLoader(validation_set, batch_size=4, shuffle=False, num_workers=2)\n",
    "\n",
    "# 类别标签\n",
    "classes = ('T-shirt/top', 'Trouser', 'Pullover', 'Dress', 'Coat',\n",
    "        'Sandal', 'Shirt', 'Sneaker', 'Bag', 'Ankle Boot')\n",
    "\n",
    "# 报告数据集大小\n",
    "print('训练集包含 {} 个实例'.format(len(training_set)))\n",
    "print('验证集包含 {} 个实例'.format(len(validation_set)))"
   ]
  },
  {
   "cell_type": "markdown",
   "metadata": {},
   "source": [
    "和往常一样，让我们可视化数据以进行合理性检查："
   ]
  },
  {
   "cell_type": "code",
   "execution_count": null,
   "metadata": {},
   "outputs": [
    {
     "name": "stdout",
     "output_type": "stream",
     "text": [
      "Sandal  Shirt  Shirt  Sandal\n"
     ]
    },
    {
     "data": {
      "image/png": "[encoded data removed]",
      "text/plain": [
       "<Figure size 432x288 with 1 Axes>"
      ]
     },
     "metadata": {
      "needs_background": "light"
     },
     "output_type": "display_data"
    }
   ],
   "source": [
    "import matplotlib.pyplot as plt\n",
    "import numpy as np\n",
    "\n",
    "# 用于内联显示图像的辅助函数\n",
    "def matplotlib_imshow(img, one_channel=False):\n",
    "    if one_channel:\n",
    "        img = img.mean(dim=0)\n",
    "    img = img / 2 + 0.5     # 反归一化\n",
    "    npimg = img.numpy()\n",
    "    if one_channel:\n",
    "        plt.imshow(npimg, cmap=\"Greys\")\n",
    "    else:\n",
    "        plt.imshow(np.transpose(npimg, (1, 2, 0)))\n",
    "\n",
    "dataiter = iter(training_loader)\n",
    "images, labels = dataiter.next()\n",
    "\n",
    "# 从图像创建网格并显示\n",
    "img_grid = torchvision.utils.make_grid(images)\n",
    "matplotlib_imshow(img_grid, one_channel=True)\n",
    "print('  '.join(classes[labels[j]] for j in range(4)))  # 打印图像对应的类别标签"
   ]
  },
  {
   "cell_type": "markdown",
   "metadata": {},
   "source": [
    "## 模型\n",
    "\n",
    "在本示例中，我们将使用 LeNet-5 的一个变体模型——如果您观看过本系列的前几期视频，这应该很熟悉。"
   ]
  },
  {
   "cell_type": "code",
   "execution_count": null,
   "metadata": {},
   "outputs": [],
   "source": [
    "import torch.nn as nn\n",
    "import torch.nn.functional as F\n",
    "\n",
    "# PyTorch 模型继承自 torch.nn.Module\n",
    "class GarmentClassifier(nn.Module):\n",
    "    def __init__(self):\n",
    "        super(GarmentClassifier, self).__init__()\n",
    "        self.conv1 = nn.Conv2d(1, 6, 5)\n",
    "        self.pool = nn.MaxPool2d(2, 2)\n",
    "        self.conv2 = nn.Conv2d(6, 16, 5)\n",
    "        self.fc1 = nn.Linear(16 * 4 * 4, 120)\n",
    "        self.fc2 = nn.Linear(120, 84)\n",
    "        self.fc3 = nn.Linear(84, 10)\n",
    "\n",
    "    def forward(self, x):\n",
    "        x = self.pool(F.relu(self.conv1(x)))\n",
    "        x = self.pool(F.relu(self.conv2(x)))\n",
    "        x = x.view(-1, 16 * 4 * 4)\n",
    "        x = F.relu(self.fc1(x))\n",
    "        x = F.relu(self.fc2(x))\n",
    "        x = self.fc3(x)\n",
    "        return x\n",
    "    \n",
    "\n",
    "model = GarmentClassifier()"
   ]
  },
  {
   "cell_type": "markdown",
   "metadata": {},
   "source": [
    "## 损失函数\n",
    "\n",
    "在本示例中，我们将使用交叉熵损失。为了演示，我们将创建虚拟输出和标签值的批次，通过损失函数运行它们，并检查结果。"
   ]
  },
  {
   "cell_type": "code",
   "execution_count": null,
   "metadata": {},
   "outputs": [
    {
     "name": "stdout",
     "output_type": "stream",
     "text": [
      "tensor([[0.7915, 0.4766, 0.3735, 0.5340, 0.0799, 0.9948, 0.1870, 0.0507, 0.1183,\n",
      "         0.9106],\n",
      "        [0.9666, 0.3765, 0.4324, 0.7354, 0.1953, 0.8906, 0.6882, 0.1925, 0.7076,\n",
      "         0.8777],\n",
      "        [0.4412, 0.0325, 0.4886, 0.9350, 0.9792, 0.5580, 0.6199, 0.2478, 0.3619,\n",
      "         0.8307],\n",
      "        [0.3287, 0.8571, 0.6046, 0.6719, 0.5982, 0.0540, 0.7193, 0.4764, 0.7451,\n",
      "         0.8345]])\n",
      "tensor([1, 5, 3, 7])\n",
      "Total loss for this batch: 2.196722984313965\n"
     ]
    }
   ],
   "source": [
    "loss_fn = torch.nn.CrossEntropyLoss()\n",
    "\n",
    "# 注意：损失函数期望数据以批次形式提供，因此我们创建了 4 个批次\n",
    "# 表示模型对每个输入在 10 个类别中的置信度\n",
    "dummy_outputs = torch.rand(4, 10)\n",
    "# 表示测试的 10 个类别中的正确类别\n",
    "dummy_labels = torch.tensor([1, 5, 3, 7])\n",
    "    \n",
    "print(dummy_outputs)\n",
    "print(dummy_labels)\n",
    "\n",
    "loss = loss_fn(dummy_outputs, dummy_labels)\n",
    "print('此批次的总损失：{}'.format(loss.item()))"
   ]
  },
  {
   "cell_type": "markdown",
   "metadata": {},
   "source": [
    "## 优化器\n",
    "\n",
    "在本示例中，我们将使用简单的[随机梯度下降](https://pytorch.org/docs/stable/optim.html)（带动量）。\n",
    "\n",
    "尝试一些优化方案的变化可能会很有启发：\n",
    "* 学习率决定了优化器采取的步长大小。不同的学习率对训练结果有什么影响，包括准确性和收敛时间？\n",
    "* 动量在多个步骤中将优化器推向最强梯度的方向。改变这个值对结果有什么影响？\n",
    "* 尝试一些不同的优化算法，例如平均 SGD、Adagrad 或 Adam。结果有何不同？"
   ]
  },
  {
   "cell_type": "code",
   "execution_count": null,
   "metadata": {},
   "outputs": [],
   "source": [
    "# 优化器在 torch.optim 包中指定\n",
    "optimizer = torch.optim.SGD(model.parameters(), lr=0.001, momentum=0.9)"
   ]
  },
  {
   "cell_type": "markdown",
   "metadata": {},
   "source": [
    "## 训练循环\n",
    "\n",
    "下面是一个执行一个训练周期的函数。它枚举来自 DataLoader 的数据，并在每次循环中执行以下操作：\n",
    "* 从 DataLoader 获取一批训练数据\n",
    "* 清零优化器的梯度\n",
    "* 执行推理——即从模型获取输入批次的预测\n",
    "* 计算该组预测与数据集标签之间的损失\n",
    "* 计算学习权重的反向梯度\n",
    "* 告诉优化器执行一个学习步骤——即根据该批次的观察梯度调整模型的学习权重，按照我们选择的优化算法\n",
    "* 每 1000 个批次报告一次损失。\n",
    "* 最后，报告最后 1000 个批次的平均每批次损失，以便与验证运行进行比较"
   ]
  },
  {
   "cell_type": "code",
   "execution_count": null,
   "metadata": {},
   "outputs": [],
   "source": [
    "def train_one_epoch(epoch_index, tb_writer):\n",
    "    running_loss = 0.\n",
    "    last_loss = 0.\n",
    "    \n",
    "    # 在这里，我们使用 enumerate(training_loader) 而不是\n",
    "    # iter(training_loader)，以便跟踪批次索引并进行一些周期内报告\n",
    "    for i, data in enumerate(training_loader):\n",
    "        # 每个数据实例都是一个输入 + 标签对\n",
    "        inputs, labels = data\n",
    "        \n",
    "        # 每批次清零梯度！\n",
    "        optimizer.zero_grad()\n",
    "        \n",
    "        # 为此批次进行预测\n",
    "        outputs = model(inputs)\n",
    "        \n",
    "        # 计算损失及其梯度\n",
    "        loss = loss_fn(outputs, labels)\n",
    "        loss.backward()\n",
    "        \n",
    "        # 调整学习权重\n",
    "        optimizer.step()\n",
    "        \n",
    "        # 收集数据并报告\n",
    "        running_loss += loss.item()\n",
    "        if i % 1000 == 999:\n",
    "            last_loss = running_loss / 1000 # 每批次损失\n",
    "            print('  批次 {} 损失：{}'.format(i + 1, last_loss))\n",
    "            tb_x = epoch_index * len(training_loader) + i + 1\n",
    "            tb_writer.add_scalar('Loss/train', last_loss, tb_x)\n",
    "            running_loss = 0.\n",
    "            \n",
    "    return last_loss"
   ]
  },
  {
   "cell_type": "markdown",
   "metadata": {},
   "source": [
    "### 每周期活动\n",
    "\n",
    "每个周期我们需要做一些事情：\n",
    "* 通过检查未用于训练的数据集上的相对损失进行验证，并报告结果\n",
    "* 保存模型的副本\n",
    "\n",
    "在这里，我们将在 TensorBoard 中进行报告。这需要转到命令行启动 TensorBoard，并在另一个浏览器标签中打开它。"
   ]
  },
  {
   "cell_type": "code",
   "execution_count": null,
   "metadata": {},
   "outputs": [],
   "source": [
    "# 在单独的单元中初始化，以便轻松向同一运行添加更多周期\n",
    "timestamp = datetime.now().strftime('%Y%m%d_%H%M%S')\n",
    "writer = SummaryWriter('runs/fashion_trainer_{}'.format(timestamp))\n",
    "epoch_number = 0"
   ]
  },
  {
   "cell_type": "code",
   "execution_count": null,
   "metadata": {},
   "outputs": [
    {
     "name": "stdout",
     "output_type": "stream",
     "text": [
      "EPOCH 6:\n",
      "  batch 1000 loss: 0.2712569512435075\n",
      "  batch 2000 loss: 0.2601859306513652\n",
      "  batch 3000 loss: 0.259985514376438\n",
      "  batch 4000 loss: 0.2620664734886377\n",
      "  batch 5000 loss: 0.25726098109555096\n",
      "  batch 6000 loss: 0.2829849383759356\n",
      "  batch 7000 loss: 0.2504337926213739\n",
      "  batch 8000 loss: 0.28633546594417153\n",
      "  batch 9000 loss: 0.2615796004622789\n",
      "  batch 10000 loss: 0.27075869734541264\n",
      "  batch 11000 loss: 0.26998766335008256\n",
      "  batch 12000 loss: 0.2614513303764511\n",
      "  batch 13000 loss: 0.25101113697645633\n",
      "  batch 14000 loss: 0.2572545314691452\n",
      "  batch 15000 loss: 0.2646196218387686\n",
      "LOSS train 0.2646196218387686 valid 0.3120253086090088\n",
      "EPOCH 7:\n",
      "  batch 1000 loss: 0.23217408991576668\n",
      "  batch 2000 loss: 0.26750317257382084\n",
      "  batch 3000 loss: 0.2423647686961576\n",
      "  batch 4000 loss: 0.247761928711403\n",
      "  batch 5000 loss: 0.2550650118602407\n",
      "  batch 6000 loss: 0.2383200812106561\n",
      "  batch 7000 loss: 0.24519096856425546\n",
      "  batch 8000 loss: 0.26013731523246864\n",
      "  batch 9000 loss: 0.2632041203577719\n",
      "  batch 10000 loss: 0.2694681866055953\n",
      "  batch 11000 loss: 0.2497381271280392\n",
      "  batch 12000 loss: 0.258198305114337\n",
      "  batch 13000 loss: 0.25165209144220446\n",
      "  batch 14000 loss: 0.24501102960605475\n",
      "  batch 15000 loss: 0.2714995371173936\n",
      "LOSS train 0.2714995371173936 valid 0.29794615507125854\n",
      "EPOCH 8:\n",
      "  batch 1000 loss: 0.23320657860705432\n",
      "  batch 2000 loss: 0.24858402526881765\n",
      "  batch 3000 loss: 0.2317633100426342\n",
      "  batch 4000 loss: 0.23152679081074393\n",
      "  batch 5000 loss: 0.25687610574232167\n",
      "  batch 6000 loss: 0.24898936196635713\n",
      "  batch 7000 loss: 0.24102263286134393\n",
      "  batch 8000 loss: 0.221216088422334\n",
      "  batch 9000 loss: 0.24839843582039622\n",
      "  batch 10000 loss: 0.25535652273873394\n",
      "  batch 11000 loss: 0.2364917180010475\n",
      "  batch 12000 loss: 0.24013902479332047\n",
      "  batch 13000 loss: 0.2527130251531107\n",
      "  batch 14000 loss: 0.2268015396361734\n",
      "  batch 15000 loss: 0.23084795617466533\n",
      "LOSS train 0.23084795617466533 valid 0.30887657403945923\n",
      "EPOCH 9:\n",
      "  batch 1000 loss: 0.20914060916691596\n",
      "  batch 2000 loss: 0.2383922872493049\n",
      "  batch 3000 loss: 0.24150142164375699\n",
      "  batch 4000 loss: 0.22258911576591162\n",
      "  batch 5000 loss: 0.20668142405075765\n",
      "  batch 6000 loss: 0.23581195026773002\n",
      "  batch 7000 loss: 0.22473419379490223\n",
      "  batch 8000 loss: 0.24462740539792072\n",
      "  batch 9000 loss: 0.23375550449842103\n",
      "  batch 10000 loss: 0.2425170969904384\n",
      "  batch 11000 loss: 0.23850887738823257\n",
      "  batch 12000 loss: 0.24902974063844113\n",
      "  batch 13000 loss: 0.23447657160507732\n",
      "  batch 14000 loss: 0.22578069565728948\n",
      "  batch 15000 loss: 0.22243430260214883\n",
      "LOSS train 0.22243430260214883 valid 0.3069189786911011\n",
      "EPOCH 10:\n",
      "  batch 1000 loss: 0.222734550482106\n",
      "  batch 2000 loss: 0.22249747196489136\n",
      "  batch 3000 loss: 0.22432524254382952\n",
      "  batch 4000 loss: 0.20827693899664973\n",
      "  batch 5000 loss: 0.2167568837881121\n",
      "  batch 6000 loss: 0.22029019777785727\n",
      "  batch 7000 loss: 0.21953412261475375\n",
      "  batch 8000 loss: 0.21163398088562416\n",
      "  batch 9000 loss: 0.21914111551065799\n",
      "  batch 10000 loss: 0.215088521746859\n",
      "  batch 11000 loss: 0.23400862988600693\n",
      "  batch 12000 loss: 0.21626755150469398\n",
      "  batch 13000 loss: 0.24138166160018262\n",
      "  batch 14000 loss: 0.25017317488135904\n",
      "  batch 15000 loss: 0.2206965961180249\n",
      "LOSS train 0.2206965961180249 valid 0.3038918077945709\n"
     ]
    }
   ],
   "source": [
    "EPOCHS = 5\n",
    "\n",
    "best_vloss = 1_000_000.\n",
    "\n",
    "for epoch in range(EPOCHS):\n",
    "    print('周期 {}:'.format(epoch_number + 1))\n",
    "    \n",
    "    # 确保梯度跟踪已打开，并对数据进行一次遍历\n",
    "    model.train(True)\n",
    "    avg_loss = train_one_epoch(epoch_number, writer)\n",
    "    \n",
    "    # 我们不需要梯度来进行报告\n",
    "    model.train(False)\n",
    "    \n",
    "    running_vloss = 0.0\n",
    "    for i, vdata in enumerate(validation_loader):\n",
    "        vinputs, vlabels = vdata\n",
    "        voutputs = model(vinputs)\n",
    "        vloss = loss_fn(voutputs, vlabels)\n",
    "        running_vloss += vloss\n",
    "    \n",
    "    avg_vloss = running_vloss / (i + 1)\n",
    "    print('损失 训练 {} 验证 {}'.format(avg_loss, avg_vloss))\n",
    "    \n",
    "    # 记录每批次平均损失\n",
    "    # 包括训练和验证\n",
    "    writer.add_scalars('Training vs. Validation Loss',\n",
    "                    { 'Training' : avg_loss, 'Validation' : avg_vloss },\n",
    "                    epoch_number + 1)\n",
    "    writer.flush()\n",
    "    \n",
    "    # 跟踪最佳性能，并保存模型状态\n",
    "    if avg_vloss < best_vloss:\n",
    "        best_vloss = avg_vloss\n",
    "        model_path = 'model_{}_{}'.format(timestamp, epoch_number)\n",
    "        torch.save(model.state_dict(), model_path)\n",
    "    \n",
    "    epoch_number += 1"
   ]
  },
  {
   "cell_type": "markdown",
   "metadata": {},
   "source": [
    "要加载模型的保存版本：\n",
    "\n",
    "```\n",
    "saved_model = GarmentClassifier()\n",
    "saved_model.load_state_dict(torch.load(PATH))\n",
    "```\n",
    "\n",
    "加载模型后，它可以用于任何您需要的任务——进一步训练、推理或分析。\n",
    "\n",
    "请注意，如果您的模型具有影响模型结构的构造参数，则需要提供这些参数并以与保存时相同的方式配置模型。\n",
    "\n",
    "## 其他资源\n",
    "\n",
    "* [数据工具](https://pytorch.org/docs/stable/data.html) 的文档，包括 Dataset 和 DataLoader，位于 pytorch.org\n",
    "* 关于 [固定内存的使用](https://pytorch.org/docs/stable/notes/cuda.html#cuda-memory-pinning) 的说明，用于 GPU 训练\n",
    "* [TorchVision](https://pytorch.org/docs/stable/torchvision/datasets.html)、[TorchText](https://pytorch.org/text/datasets.html) 和 [TorchAudio](https://pytorch.org/audio/datasets.html) 中可用数据集的文档\n",
    "* PyTorch 中可用的 [损失函数](https://pytorch.org/docs/stable/nn.html#loss-functions) 的文档\n",
    "* [torch.optim 包](https://pytorch.org/docs/stable/optim.html) 的文档，其中包括优化器和相关工具，例如学习率调度\n",
    "* 关于保存和加载模型的详细 [教程](https://pytorch.org/tutorials/beginner/saving_loading_models.html)\n",
    "* [pytorch.org 的教程部分](https://pytorch.org/tutorials/) 包含关于各种训练任务的教程，包括不同领域的分类、生成对抗网络、强化学习等"
   ]
  }
 ],
 "metadata": {
  "kernelspec": {
   "display_name": "Python 3",
   "language": "python",
   "name": "python3"
  },
  "language_info": {
   "codemirror_mode": {
    "name": "ipython",
    "version": 3
   },
   "file_extension": ".py",
   "mimetype": "text/x-python",
   "name": "python",
   "nbconvert_exporter": "python",
   "pygments_lexer": "ipython3",
   "version": "3.8.2"
  }
 },
 "nbformat": 4,
 "nbformat_minor": 4
}
